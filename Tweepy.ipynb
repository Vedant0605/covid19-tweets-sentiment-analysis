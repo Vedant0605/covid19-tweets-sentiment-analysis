{
 "cells": [
  {
   "cell_type": "code",
   "execution_count": 4,
   "metadata": {},
   "outputs": [
    {
     "name": "stdout",
     "output_type": "stream",
     "text": [
      "RT @ForeignMagnet: me trying not to cough so people don’t think i have corona after choking on my own saliva https://t.co/16RYvTZ8L9\n",
      "Sentiment(polarity=0.6, subjectivity=1.0)\n",
      "RT @GudimaniPradeep: @DrRPNishank @iitroorkee @sb_bharatiya @narendramodi @AmitShah @PMOIndia @HMOIndia @HRDMinistry @mygovindia @transform…\n",
      "Sentiment(polarity=0.0, subjectivity=0.0)\n",
      "We want  : corona = vaccine\n",
      "\n",
      "We get      : Ramdev= CoroNil\n",
      "\n",
      "justice get: ICMR = Nil\n",
      "#coronavaccine #coronavirus\n",
      "Sentiment(polarity=0.0, subjectivity=0.0)\n",
      "RT @AnshumanSail: • 12th February - Sh. Rahul Gandhi warned GOI about Corona Virus\n",
      "• 19th Feb - Sh. Modi enjoyed Liti Chokha at Hunar Hat\n",
      "•…\n",
      "Sentiment(polarity=0.5, subjectivity=0.7)\n",
      "कोरोना झाला म्हणजे सगळं संपलं, असं अजिबात नाही...ऐका डॉक्टरांचा सल्ला\n",
      "#Sakal #SakalNews #MarathiNews #News #Pune… https://t.co/IKLM20V5f8\n",
      "Sentiment(polarity=0.0, subjectivity=0.0)\n",
      "@Imshivamsharma Corona has reached the small town and villages now. Things are getting worse\n",
      "Sentiment(polarity=-0.325, subjectivity=0.5)\n",
      "RT @BR24: Weltweit ist #Brasilien nach den #USA am schwersten von #Corona betroffen. Armut und strukturelle Probleme haben dem Virus den We…\n",
      "Sentiment(polarity=0.0, subjectivity=0.0)\n",
      "@smritiirani Do u by any chance happen to knw price of petrol, Diesel, lpg, Or anything about status of LAC. Or whe… https://t.co/kldbGsxZiU\n",
      "Sentiment(polarity=0.0, subjectivity=0.0)\n",
      "@mverdoux @srivatsayb @RahulGandhi @narendramodi Don't lie. India has already defeated corona by flattening the cur… https://t.co/kbKZgbu1Wo\n",
      "Sentiment(polarity=0.0, subjectivity=0.0)\n",
      "Ainda, acabou corona vírus em Campo Grande\n",
      "Sentiment(polarity=0.0, subjectivity=0.0)\n",
      "RT @ZDFheute: Kanzleramtschef @HBraun will Schulen nach den Ferien öffnen, Stadionbesuche sollen ab Herbst wieder möglich sein: Deutschland…\n",
      "Sentiment(polarity=0.0, subjectivity=0.0)\n",
      "RT @anissaclaiborne: He is now in Corona, CA. IE residents, be aware. Be safe!\n",
      "Sentiment(polarity=0.4375, subjectivity=0.375)\n",
      "Corona\n",
      "Cowai\n",
      "ChinChin https://t.co/RbbXHcO3oQ\n",
      "Sentiment(polarity=0.0, subjectivity=0.0)\n",
      "@KDMCOfficial corona chya bhitimule manus manuski visarlyachya anek ghatana ghadtayt. Jevdha lockdown vadhval tevdh… https://t.co/eNnNgqrwLf\n",
      "Sentiment(polarity=0.0, subjectivity=0.0)\n",
      "RT @anissaclaiborne: He is now in Corona, CA. IE residents, be aware. Be safe!\n",
      "Sentiment(polarity=0.4375, subjectivity=0.375)\n"
     ]
    }
   ],
   "source": [
    "import tweepy\n",
    "from textblob import TextBlob\n",
    "consumer_key = 'AJS5G44OEK6YQNsKl8iDirAvn'\n",
    "consumer_secret = 'CrzgE6iRRALufT1AsJlkCorRYLUUHUI0Ei7Sf14s7qYqmGQPZL'\n",
    "access_token = '1268419235467968513-yVjoi1X1K3kC8GaG8nOTuguL22RWgC'\n",
    "access_token_secret = 'szkrjxYhSfvdzIEPNN6xYsUJIWiCuodkphy7Lzm0iU8oc'\n",
    "auth = tweepy.OAuthHandler(consumer_key,consumer_secret)\n",
    "auth.set_access_token(access_token,access_token_secret)\n",
    "api = tweepy.API(auth)\n",
    "public_tweets = api.search('corona')\n",
    "for tweet in public_tweets:\n",
    "  print(tweet.text)\n",
    "  analysis = TextBlob(tweet.text)\n",
    "  print(analysis.sentiment)\n"
   ]
  },
  {
   "cell_type": "code",
   "execution_count": null,
   "metadata": {},
   "outputs": [],
   "source": []
  }
 ],
 "metadata": {
  "kernelspec": {
   "display_name": "Python 3",
   "language": "python",
   "name": "python3"
  },
  "language_info": {
   "codemirror_mode": {
    "name": "ipython",
    "version": 3
   },
   "file_extension": ".py",
   "mimetype": "text/x-python",
   "name": "python",
   "nbconvert_exporter": "python",
   "pygments_lexer": "ipython3",
   "version": "3.7.3"
  }
 },
 "nbformat": 4,
 "nbformat_minor": 2
}
